{
 "cells": [
  {
   "cell_type": "code",
   "execution_count": 23,
   "metadata": {},
   "outputs": [],
   "source": [
    "# Set up the ArcGIS Project and relevant names\n",
    "project = arcpy.mp.ArcGISProject(\"CURRENT\")\n",
    "layout_name = \"TEST\"  # Name of the layout\n",
    "main_map_name = \"Overview Map Frame\"  # Name of the main map\n",
    "geographic_location_field = \"LICENCE_ID\"  # Field name for Geographic Location"
   ]
  },
  {
   "cell_type": "code",
   "execution_count": 32,
   "metadata": {},
   "outputs": [
    {
     "name": "stdout",
     "output_type": "stream",
     "text": [
      "Map Name: Overview\n"
     ]
    }
   ],
   "source": [
    "# Access the layout and the main map frame\n",
    "layout = project.listLayouts(layout_name)[0]\n",
    "main_map_frame = layout.listElements(\"MAPFRAME_ELEMENT\", main_map_name)[0]\n",
    "main_map = main_map_frame.map\n",
    "print(\"Map Name: \" + main_map.name)"
   ]
  },
  {
   "cell_type": "code",
   "execution_count": 44,
   "metadata": {},
   "outputs": [
    {
     "name": "stdout",
     "output_type": "stream",
     "text": [
      "Width: 32.0\n",
      "Height: 36.0\n"
     ]
    }
   ],
   "source": [
    "# Parameters for grid layout\n",
    "inset_width = 4  # Width of each inset map frame\n",
    "inset_height = 4  # Height of each inset map frame\n",
    "rows = 8  # Number of rows for inset maps\n",
    "cols = 1  # Number of columns for inset maps\n",
    "spacing = 1  # Space between inset maps\n",
    "\n",
    "# Get the layout's width and height\n",
    "layout_width = layout.pageWidth\n",
    "print(\"Width: \" + str(layout_width))\n",
    "layout_height = layout.pageHeight\n",
    "print(\"Height: \" + str(layout_height))\n",
    "\n",
    "# Calculate the starting position for the grid of inset maps\n",
    "start_x = 0.5  # Adjust this as needed for margins\n",
    "start_y = layout_height - inset_height - 0.5  # Adjust this as needed for margins"
   ]
  },
  {
   "cell_type": "code",
   "execution_count": 34,
   "metadata": {
    "scrolled": true
   },
   "outputs": [
    {
     "name": "stdout",
     "output_type": "stream",
     "text": [
      "['TA1616', 'TA0713', 'A93872', 'A93714', 'A95414', 'A95414', 'A95807', 'TA0470', 'A93714', 'A95807', 'A95807', 'TA0470', 'TA0470', 'A93873', 'A93873', 'TA0713', 'TA0713', 'TA0713', 'A93873', 'A95414', 'A95414', 'A95414']\n",
      "\n",
      "Duplicates Removed: ['TA1616', 'TA0713', 'A93872', 'A93714', 'A95414', 'A95807', 'TA0470', 'A93873']\n"
     ]
    }
   ],
   "source": [
    "# Loop through the unique values in the Geographic Location field\n",
    "with arcpy.da.SearchCursor(\"FTAR 2025 Planting Blocks\", [geographic_location_field]) as cursor:\n",
    "    location_list = [row[0] for row in cursor]\n",
    "\n",
    "print(location_list)\n",
    "print()\n",
    "location_list = list(dict.fromkeys(location_list))\n",
    "print(f\"Duplicates Removed: {location_list}\")"
   ]
  },
  {
   "cell_type": "code",
   "execution_count": 45,
   "metadata": {
    "scrolled": true
   },
   "outputs": [
    {
     "name": "stdout",
     "output_type": "stream",
     "text": [
      "Inset 1\n",
      "Query: LICENCE_ID = 'TA1616'\n",
      "1566689.8135 574485.5538 1567288.1983 575677.2355 NaN NaN NaN NaN\n",
      "﻿\n",
      "Inset 2\n",
      "Query: LICENCE_ID = 'TA0713'\n",
      "1560415.7401 576085.009 1563325.6182 581480.6143 NaN NaN NaN NaN\n",
      "﻿\n",
      "Inset 3\n",
      "Query: LICENCE_ID = 'A93872'\n",
      "1553211.3052 593292.0482 1554283.4615 594020.482799999 NaN NaN NaN NaN\n",
      "﻿\n",
      "Inset 4\n",
      "Query: LICENCE_ID = 'A93714'\n",
      "1563949.6369 596285.850199999 1565841.8245 600459.265000001 NaN NaN NaN NaN\n",
      "﻿\n",
      "Inset 5\n",
      "Query: LICENCE_ID = 'A95414'\n",
      "1547927.228 589301.7531 1550687.3752 592418.9165 NaN NaN NaN NaN\n",
      "﻿\n",
      "Inset 6\n",
      "Query: LICENCE_ID = 'A95807'\n",
      "1562034.6881 587884.325099999 1563502.1129 591489.0395 NaN NaN NaN NaN\n",
      "﻿\n",
      "Inset 7\n",
      "Query: LICENCE_ID = 'TA0470'\n",
      "1566493.0625 576279.3364 1567887.5366 579466.9352 NaN NaN NaN NaN\n",
      "﻿\n",
      "Inset 8\n",
      "Query: LICENCE_ID = 'A93873'\n",
      "1580735.5258 579412.9913 1582751.4798 580628.9197 NaN NaN NaN NaN\n",
      "﻿\n",
      "   ...Script Complete\n"
     ]
    }
   ],
   "source": [
    "# Define a function to get the extent for a specific location\n",
    "def get_extent_for_location(location):\n",
    "    # Query the layer to find the extent for the given location\n",
    "    layer = \"FTAR 2025 Planting Blocks\"  # Adjust if multiple layers or specific layer\n",
    "    query = f\"{geographic_location_field} = '{location}'\"\n",
    "    print(\"Query: \" + query)\n",
    "    extent_union = None  # This will store the combined extent\n",
    "    \n",
    "    # Use a search cursor to loop through all shapes with the matching location\n",
    "    with arcpy.da.SearchCursor(layer, [\"SHAPE@\"], query) as cursor:\n",
    "        for row in cursor:\n",
    "            shape = row[0]\n",
    "            extent = shape.extent\n",
    "            \n",
    "            if extent_union is None:\n",
    "                # Initialize the extent_union with the first shape's extent\n",
    "                extent_union = extent\n",
    "            else:\n",
    "                # Manually compute the union of extents by updating the min/max coordinates\n",
    "                extent_union.XMin = min(extent_union.XMin, extent.XMin)\n",
    "                extent_union.YMin = min(extent_union.YMin, extent.YMin)\n",
    "                extent_union.XMax = max(extent_union.XMax, extent.XMax)\n",
    "                extent_union.YMax = max(extent_union.YMax, extent.YMax)\n",
    "    \n",
    "    return extent_union\n",
    "\n",
    "map_frames = layout.listElements(\"MAPFRAME_ELEMENT\")\n",
    "\n",
    "for i, location in enumerate(location_list):\n",
    "    # Skip if there are no more pre-existing map frames\n",
    "    if i >= len(map_frames):\n",
    "        break\n",
    "    \n",
    "    # Get the current map frame\n",
    "    map_frame = map_frames[i]\n",
    "    print(map_frame.name)\n",
    "    if map_frame.name == \"Overview Map Frame\":\n",
    "        print(\"   ...Skiping Overview Map Frame\")\n",
    "        continue\n",
    "    \n",
    "    \n",
    "    row = i // cols\n",
    "    col = i % cols\n",
    "    \n",
    "    # Calculate the position for the map frame\n",
    "    x_position = start_x + col * (inset_width + spacing)\n",
    "    y_position = start_y - row * (inset_height + spacing)\n",
    "    \n",
    "    # Set the position and size for the map frame\n",
    "    map_frame.elementPositionX = x_position\n",
    "    map_frame.elementPositionY = y_position\n",
    "    map_frame.elementWidth = inset_width\n",
    "    map_frame.elementHeight = inset_height\n",
    "\n",
    "    # Get the extent for the map frame based on the current location\n",
    "    extent = get_extent_for_location(location)\n",
    "    print(extent)\n",
    "    print(\"\")\n",
    "    \n",
    "    # Set the extent for the map frame\n",
    "    map_frame.camera.setExtent(extent)\n",
    "    \n",
    "#     # Add a text element to label the inset map with the location\n",
    "#     # Create the text element below the inset map\n",
    "#     text_x_position = x_position\n",
    "#     text_y_position = y_position - 0.5  # Adjust the spacing for text placement\n",
    "    \n",
    "#     # Create a new text element using arcpy.mp.TextElement\n",
    "#     new_text_element = arcpy.mp.TextElement(layout)\n",
    "#     new_text_element.text = f\"{location}\"\n",
    "#     new_text_element.elementPositionX = text_x_position\n",
    "#     new_text_element.elementPositionY = text_y_position\n",
    "#     new_text_element.elementWidth = inset_width\n",
    "#     new_text_element.elementHeight = 0.5\n",
    "\n",
    "#     # Add the new text element to the layout\n",
    "#     layout.addElement(new_text_element)\n",
    "\n",
    "#     # Optionally, update other elements like the title\n",
    "#     #title_element = layout.listElements(\"TEXT_ELEMENT\", \"Inset Title\")[0]\n",
    "#     #title_element.text = f\"Inset for {location}\"\n",
    "\n",
    "# Save the project if changes were made\n",
    "project.save()\n",
    "print(\"   ...Script Complete\")\n"
   ]
  },
  {
   "cell_type": "code",
   "execution_count": 37,
   "metadata": {},
   "outputs": [
    {
     "name": "stdout",
     "output_type": "stream",
     "text": [
      "Text 2\n",
      "Text 1\n",
      "Text\n",
      "Notes\n",
      "Map Insets Title\n",
      "Main map Key Title\n",
      "Document path Text\n",
      "BC Timber Sales Text\n",
      "Map Title\n",
      "Arrow Field team\n",
      "Kootenay Business Area\n",
      "Prjection etc. text\n",
      "Map Prepared By Text\n",
      "DSMAPBOOK - DATE\n",
      "Date of Creation Text\n",
      "Text 13\n",
      "Text 16\n",
      "Text 29\n",
      "Text 27\n",
      "Text 26\n",
      "Text 25\n",
      "Text 24\n",
      "Text 21\n",
      "Text 19\n",
      "Text 15\n",
      "Text 11\n",
      "Text 10\n",
      "Map Scale Text\n"
     ]
    }
   ],
   "source": [
    "# List all text elements in the layout\n",
    "text_elements = layout.listElements(\"TEXT_ELEMENT\")\n",
    "for element in text_elements:\n",
    "    print(element.name)\n"
   ]
  },
  {
   "cell_type": "code",
   "execution_count": null,
   "metadata": {},
   "outputs": [],
   "source": []
  }
 ],
 "metadata": {
  "kernelspec": {
   "display_name": "ArcGISPro",
   "language": "Python",
   "name": "python3"
  },
  "language_info": {
   "file_extension": ".py",
   "name": "python",
   "version": "3"
  }
 },
 "nbformat": 4,
 "nbformat_minor": 2
}
